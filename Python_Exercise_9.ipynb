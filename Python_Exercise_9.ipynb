{
  "nbformat": 4,
  "nbformat_minor": 0,
  "metadata": {
    "colab": {
      "provenance": [],
      "authorship_tag": "ABX9TyNkYYE3gQVb/7gLk8LgENFh",
      "include_colab_link": true
    },
    "kernelspec": {
      "name": "python3",
      "display_name": "Python 3"
    },
    "language_info": {
      "name": "python"
    }
  },
  "cells": [
    {
      "cell_type": "markdown",
      "metadata": {
        "id": "view-in-github",
        "colab_type": "text"
      },
      "source": [
        "<a href=\"https://colab.research.google.com/github/MarkClarenceRodriguez/58013_Linear_Algebra/blob/main/Python_Exercise_9.ipynb\" target=\"_parent\"><img src=\"https://colab.research.google.com/assets/colab-badge.svg\" alt=\"Open In Colab\"/></a>"
      ]
    },
    {
      "cell_type": "markdown",
      "source": [
        "Matrix Algebra"
      ],
      "metadata": {
        "id": "1iRuep8NExJU"
      }
    },
    {
      "cell_type": "code",
      "execution_count": 11,
      "metadata": {
        "colab": {
          "base_uri": "https://localhost:8080/"
        },
        "id": "K4oPVb2r5UnN",
        "outputId": "7c68b1a0-0145-4d42-87f1-43f2082bf886"
      },
      "outputs": [
        {
          "output_type": "stream",
          "name": "stdout",
          "text": [
            "3\n",
            "-235\n"
          ]
        }
      ],
      "source": [
        "import numpy as np\n",
        "import matplotlib.pyplot as plt\n",
        "%matplotlib inline\n",
        "\n",
        "\n",
        "A = np.array([\n",
        "    [1,4],\n",
        "    [0,3]\n",
        "])\n",
        "print(int(np.linalg.det(A)))\n",
        "\n",
        "## Now other mathematics classes would require you to solve this by hand,\n",
        "## and that is great for practicing your memorization and coordination skills\n",
        "## but in this class we aim for simplicity and speed so we'll use programming\n",
        "## but it's completely fine if you want to try to solve this one by hand.\n",
        "B = np.array([\n",
        "    [1,3,5,6],\n",
        "    [0,3,1,3],\n",
        "    [3,1,8,2],\n",
        "    [5,2,6,8]\n",
        "])\n",
        "\n",
        "print(int(np.linalg.det(B)))"
      ]
    },
    {
      "cell_type": "code",
      "source": [
        "import numpy as np\n",
        "\n",
        "\n",
        "\n",
        "# Create matrices A, B, and C\n",
        "\n",
        "A = np.array([[1, 2, 3],\n",
        "\n",
        " [4, 5, 6],\n",
        " [7, 8, 9]])\n",
        "\n",
        "\n",
        "\n",
        "B = np.array([[9, 8, 7],\n",
        "\n",
        " [6, 5, 4],\n",
        " [3, 2, 1]])\n",
        "\n",
        "\n",
        "\n",
        "C = np.array([[2, 0, -2],\n",
        "\n",
        " [1, 3, 5],\n",
        " [-1, -4, -6]])\n",
        "\n",
        "\n",
        "\n",
        "# 1. Distributive Property\n",
        "\n",
        "left_side = A.dot(B + C)\n",
        "\n",
        "right_side = A.dot(B) + A.dot(C)\n",
        "\n",
        "print(\"1. Distributive Property:\")\n",
        "print(\"A(B + C) =\", left_side)\n",
        "print(\"AB + AC =\", right_side)\n",
        "print(np.array_equal(left_side, right_side))\n",
        "\n",
        "\n",
        "\n",
        "# 2. Associative Property\n",
        "\n",
        "left_side = (A.dot(B)).dot(C)\n",
        "\n",
        "right_side = A.dot(B.dot(C))\n",
        "\n",
        "print(\"\\n2. Associative Property:\")\n",
        "print(\"(AB)C =\", left_side)\n",
        "print(\"A(BC) =\", right_side)\n",
        "print(np.array_equal(left_side, right_side))\n",
        "\n",
        "\n",
        "\n",
        "# 3. Scalar Multiplication Distributive Property\n",
        "\n",
        "k = 2\n",
        "\n",
        "left_side = k * (A.dot(B))\n",
        "\n",
        "right_side = (k * A).dot(B)\n",
        "\n",
        "print(\"\\n3. Scalar Multiplication Distributive Property:\")\n",
        "print(\"k(AB) =\", left_side)\n",
        "print(\"(kA)B =\", right_side)\n",
        "print(np.array_equal(left_side, right_side))\n",
        "\n",
        "\n",
        "\n",
        "# 4. Identity Matrix Property\n",
        "\n",
        "I = np.identity(3)\n",
        "\n",
        "left_side = I.dot(A)\n",
        "\n",
        "right_side = A.dot(I)\n",
        "\n",
        "print(\"\\n4. Identity Matrix Property:\")\n",
        "print(\"IA =\", left_side)\n",
        "print(\"AI =\", right_side)\n",
        "print(np.array_equal(left_side, A) and np.array_equal(right_side, A))\n",
        "\n",
        "\n",
        "\n",
        "# 5. Multiplicative Property of Zero\n",
        "\n",
        "zero_matrix = np.zeros((3, 3))\n",
        "\n",
        "left_side = zero_matrix.dot(A)\n",
        "\n",
        "right_side = A.dot(zero_matrix)\n",
        "\n",
        "print(\"\\n5. Multiplicative Property of Zero:\")\n",
        "print(\"0A =\", left_side)\n",
        "print(\"A0 =\", right_side)\n",
        "print(np.array_equal(left_side, zero_matrix) and np.array_equal(right_side, zero_matrix))\n",
        "\n",
        "\n",
        "\n",
        "# 6. Transpose Property\n",
        "\n",
        "left_side = (A.dot(B)).T\n",
        "\n",
        "right_side = (B.T).dot(A.T)\n",
        "\n",
        "print(\"\\n6. Transpose Property:\")\n",
        "print(\"(AB)^T =\", left_side)\n",
        "print(\"B^T * A^T =\", right_side)\n",
        "print(np.array_equal(left_side, right_side))"
      ],
      "metadata": {
        "colab": {
          "base_uri": "https://localhost:8080/"
        },
        "id": "JLl-k5eO88-4",
        "outputId": "91aac55b-6750-4e73-a972-d303068819a7"
      },
      "execution_count": 14,
      "outputs": [
        {
          "output_type": "stream",
          "name": "stdout",
          "text": [
            "1. Distributive Property:\n",
            "A(B + C) = [[ 31  18   8]\n",
            " [ 91  60  35]\n",
            " [151 102  62]]\n",
            "AB + AC = [[ 31  18   8]\n",
            " [ 91  60  35]\n",
            " [151 102  62]]\n",
            "True\n",
            "\n",
            "2. Associative Property:\n",
            "(AB)C = [[  66    0  -48]\n",
            " [ 183   -9 -147]\n",
            " [ 300  -18 -246]]\n",
            "A(BC) = [[  66    0  -48]\n",
            " [ 183   -9 -147]\n",
            " [ 300  -18 -246]]\n",
            "True\n",
            "\n",
            "3. Scalar Multiplication Distributive Property:\n",
            "k(AB) = [[ 60  48  36]\n",
            " [168 138 108]\n",
            " [276 228 180]]\n",
            "(kA)B = [[ 60  48  36]\n",
            " [168 138 108]\n",
            " [276 228 180]]\n",
            "True\n",
            "\n",
            "4. Identity Matrix Property:\n",
            "IA = [[1. 2. 3.]\n",
            " [4. 5. 6.]\n",
            " [7. 8. 9.]]\n",
            "AI = [[1. 2. 3.]\n",
            " [4. 5. 6.]\n",
            " [7. 8. 9.]]\n",
            "True\n",
            "\n",
            "5. Multiplicative Property of Zero:\n",
            "0A = [[0. 0. 0.]\n",
            " [0. 0. 0.]\n",
            " [0. 0. 0.]]\n",
            "A0 = [[0. 0. 0.]\n",
            " [0. 0. 0.]\n",
            " [0. 0. 0.]]\n",
            "True\n",
            "\n",
            "6. Transpose Property:\n",
            "(AB)^T = [[ 30  84 138]\n",
            " [ 24  69 114]\n",
            " [ 18  54  90]]\n",
            "B^T * A^T = [[ 30  84 138]\n",
            " [ 24  69 114]\n",
            " [ 18  54  90]]\n",
            "True\n"
          ]
        }
      ]
    }
  ]
}