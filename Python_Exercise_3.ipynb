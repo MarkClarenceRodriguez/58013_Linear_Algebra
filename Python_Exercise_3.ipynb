{
  "nbformat": 4,
  "nbformat_minor": 0,
  "metadata": {
    "colab": {
      "provenance": [],
      "authorship_tag": "ABX9TyMWXvw4l5HT6W7Pq42bLNXz",
      "include_colab_link": true
    },
    "kernelspec": {
      "name": "python3",
      "display_name": "Python 3"
    },
    "language_info": {
      "name": "python"
    }
  },
  "cells": [
    {
      "cell_type": "markdown",
      "metadata": {
        "id": "view-in-github",
        "colab_type": "text"
      },
      "source": [
        "<a href=\"https://colab.research.google.com/github/MarkClarenceRodriguez/58013_Linear_Algebra/blob/main/Python_Exercise_3.ipynb\" target=\"_parent\"><img src=\"https://colab.research.google.com/assets/colab-badge.svg\" alt=\"Open In Colab\"/></a>"
      ]
    },
    {
      "cell_type": "markdown",
      "source": [
        "Vector Operations"
      ],
      "metadata": {
        "id": "M-58oYqEjYM5"
      }
    },
    {
      "cell_type": "markdown",
      "source": [
        "Vector Addition"
      ],
      "metadata": {
        "id": "vyjZFXdYjhag"
      }
    },
    {
      "cell_type": "code",
      "execution_count": 4,
      "metadata": {
        "colab": {
          "base_uri": "https://localhost:8080/"
        },
        "id": "ki0ZJn1HjSO7",
        "outputId": "a810d8f3-9349-4035-f2d9-9a6053bc7ae9"
      },
      "outputs": [
        {
          "output_type": "execute_result",
          "data": {
            "text/plain": [
              "2"
            ]
          },
          "metadata": {},
          "execution_count": 4
        }
      ],
      "source": [
        "import numpy as np\n",
        "\n",
        "A = np.array([1,2,0])\n",
        "B = np.array([3,1,-2])\n",
        "C = np.array([0,0,1])\n",
        "\n",
        "A+B+C\n",
        "\n",
        "np.add(A,np.add(B,C))\n",
        "\n",
        "np.sum(B)"
      ]
    },
    {
      "cell_type": "markdown",
      "source": [
        "Vector Subtraction\n",
        "\n"
      ],
      "metadata": {
        "id": "Zp2syXyijlS0"
      }
    },
    {
      "cell_type": "code",
      "source": [
        "import numpy as np\n",
        "np.subtract(A,B)\n",
        "\n",
        "A-B\n"
      ],
      "metadata": {
        "colab": {
          "base_uri": "https://localhost:8080/"
        },
        "id": "WIeeMdDljn5T",
        "outputId": "e610770a-b2ff-447e-a39a-6f3de15ca9a0"
      },
      "execution_count": 5,
      "outputs": [
        {
          "output_type": "execute_result",
          "data": {
            "text/plain": [
              "array([-2,  1,  2])"
            ]
          },
          "metadata": {},
          "execution_count": 5
        }
      ]
    },
    {
      "cell_type": "markdown",
      "source": [
        "Vector Multiplication"
      ],
      "metadata": {
        "id": "ceQKFTHUkC65"
      }
    },
    {
      "cell_type": "code",
      "source": [
        "import numpy as np\n",
        "np.multiply(A,B)\n",
        "\n",
        "A*B\n"
      ],
      "metadata": {
        "colab": {
          "base_uri": "https://localhost:8080/"
        },
        "id": "xpazYLbYkXNM",
        "outputId": "b77b6960-33bf-4a94-bbed-9665f9ddc32b"
      },
      "execution_count": 6,
      "outputs": [
        {
          "output_type": "execute_result",
          "data": {
            "text/plain": [
              "array([3, 2, 0])"
            ]
          },
          "metadata": {},
          "execution_count": 6
        }
      ]
    },
    {
      "cell_type": "markdown",
      "source": [
        "Vector Division"
      ],
      "metadata": {
        "id": "PAJbybBOkfFd"
      }
    },
    {
      "cell_type": "code",
      "source": [
        "import numpy as np\n",
        "np.divide(A,B)\n",
        "\n",
        "A/B\n",
        "\n",
        "C = np.array([3.9,1.8,7.7])\n",
        "D = np.array([1,1,1])\n",
        "C//D\n",
        "\n",
        "np.array(A/B,dtype=int)\n"
      ],
      "metadata": {
        "colab": {
          "base_uri": "https://localhost:8080/"
        },
        "id": "txeE5C5Ykf5Z",
        "outputId": "fb7701e1-1081-49a8-a305-61a4e5f3ec63"
      },
      "execution_count": 9,
      "outputs": [
        {
          "output_type": "execute_result",
          "data": {
            "text/plain": [
              "array([0, 2, 0])"
            ]
          },
          "metadata": {},
          "execution_count": 9
        }
      ]
    },
    {
      "cell_type": "markdown",
      "source": [],
      "metadata": {
        "id": "_NmlVgK6kmyh"
      }
    }
  ]
}