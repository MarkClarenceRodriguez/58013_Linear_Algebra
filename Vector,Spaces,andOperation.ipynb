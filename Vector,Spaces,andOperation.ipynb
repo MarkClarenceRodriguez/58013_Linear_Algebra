{
  "nbformat": 4,
  "nbformat_minor": 0,
  "metadata": {
    "colab": {
      "provenance": [],
      "authorship_tag": "ABX9TyPoQuuX2+RPAmpYYksuNpPl",
      "include_colab_link": true
    },
    "kernelspec": {
      "name": "python3",
      "display_name": "Python 3"
    },
    "language_info": {
      "name": "python"
    }
  },
  "cells": [
    {
      "cell_type": "markdown",
      "metadata": {
        "id": "view-in-github",
        "colab_type": "text"
      },
      "source": [
        "<a href=\"https://colab.research.google.com/github/MarkClarenceRodriguez/58013_Linear_Algebra/blob/main/Vector%2CSpaces%2CandOperation.ipynb\" target=\"_parent\"><img src=\"https://colab.research.google.com/assets/colab-badge.svg\" alt=\"Open In Colab\"/></a>"
      ]
    },
    {
      "cell_type": "markdown",
      "source": [],
      "metadata": {
        "id": "hVgJlq4PhEQ1"
      }
    },
    {
      "cell_type": "code",
      "execution_count": 4,
      "metadata": {
        "colab": {
          "base_uri": "https://localhost:8080/"
        },
        "id": "RABAoofUcIsj",
        "outputId": "bedc1b96-9ff8-4eeb-cf48-ed51f41f0298"
      },
      "outputs": [
        {
          "output_type": "stream",
          "name": "stdout",
          "text": [
            "Vector A is [4 3]\n",
            "Vector B is [ 2 -5]\n"
          ]
        }
      ],
      "source": [
        "import numpy as np\n",
        "A= np.array([4,3])\n",
        "B= np.array ([2,-5])\n",
        "\n",
        "print('Vector A is', A)\n",
        "print('Vector B is', B)"
      ]
    },
    {
      "cell_type": "markdown",
      "source": [
        "Checking Shapes\n",
        "Slide Dimension, Size"
      ],
      "metadata": {
        "id": "mxt832_ujGOv"
      }
    },
    {
      "cell_type": "code",
      "source": [
        "import numpy as np\n",
        "ball1 = np.array([1,2,3])\n",
        "ball2 = np.array([0,1,-1])\n",
        "print(ball1)\n",
        "print(ball2)\n",
        "#ball = np.shape([[ball1],[ball2]])\n",
        "ball = np.shape(ball1)\n",
        "balls = np.shape(ball2)\n",
        "z = ball+balls\n",
        "print(z)\n"
      ],
      "metadata": {
        "colab": {
          "base_uri": "https://localhost:8080/"
        },
        "id": "5AvWsE4XjH-P",
        "outputId": "7a1d8486-5c9d-479a-8bc9-847f44a95a7d"
      },
      "execution_count": 19,
      "outputs": [
        {
          "output_type": "stream",
          "name": "stdout",
          "text": [
            "[1 2 3]\n",
            "[ 0  1 -1]\n",
            "(3, 3)\n"
          ]
        }
      ]
    },
    {
      "cell_type": "markdown",
      "source": [
        "Addition"
      ],
      "metadata": {
        "id": "8nNKyUprsMet"
      }
    },
    {
      "cell_type": "code",
      "source": [
        "import numpy as np\n",
        "A = np.array([4,3])\n",
        "B = np.array([2,-5])\n",
        "R = np.add(A,B)\n",
        "print(R)\n",
        "print(A+B)"
      ],
      "metadata": {
        "colab": {
          "base_uri": "https://localhost:8080/"
        },
        "id": "fiuHIgsrsP4X",
        "outputId": "2ed04ca7-33df-46a4-a6d0-5e08ab0f7619"
      },
      "execution_count": 26,
      "outputs": [
        {
          "output_type": "stream",
          "name": "stdout",
          "text": [
            "[ 6 -2]\n",
            "[ 6 -2]\n"
          ]
        }
      ]
    },
    {
      "cell_type": "markdown",
      "source": [
        "Subtraction\n",
        "\n"
      ],
      "metadata": {
        "id": "YOefINydtb2m"
      }
    },
    {
      "cell_type": "code",
      "source": [
        "R1=np.subtract(A,B)\n",
        "print(R1)\n",
        "R2=np.subtract(B,A)\n",
        "print(R2)"
      ],
      "metadata": {
        "colab": {
          "base_uri": "https://localhost:8080/"
        },
        "id": "81sxKztwtbLe",
        "outputId": "eb016689-ed36-457e-e706-833d025a7be2"
      },
      "execution_count": 29,
      "outputs": [
        {
          "output_type": "stream",
          "name": "stdout",
          "text": [
            "[2 8]\n",
            "[-2 -8]\n"
          ]
        }
      ]
    },
    {
      "cell_type": "markdown",
      "source": [
        "Scalar Product  "
      ],
      "metadata": {
        "id": "V4H65aAPuXWv"
      }
    },
    {
      "cell_type": "code",
      "source": [
        "S = np.array ([2])\n",
        "V = S*A\n",
        "print(V)"
      ],
      "metadata": {
        "colab": {
          "base_uri": "https://localhost:8080/"
        },
        "id": "EOgk22CouX8O",
        "outputId": "0b002cb0-920e-4ea3-cf0a-653f383fb506"
      },
      "execution_count": 30,
      "outputs": [
        {
          "output_type": "stream",
          "name": "stdout",
          "text": [
            "[8 6]\n"
          ]
        }
      ]
    },
    {
      "cell_type": "markdown",
      "source": [
        "Dot Product"
      ],
      "metadata": {
        "id": "uXToIgyqvIsQ"
      }
    },
    {
      "cell_type": "code",
      "source": [
        "A = ([4,3])\n",
        "B = ([2,-5])\n",
        "R= np.dot(A,B)\n",
        "print(R)"
      ],
      "metadata": {
        "colab": {
          "base_uri": "https://localhost:8080/"
        },
        "id": "d_QLocRLvLTo",
        "outputId": "17d0f0b6-dc2b-488f-d7e8-bce9102334f7"
      },
      "execution_count": 42,
      "outputs": [
        {
          "output_type": "stream",
          "name": "stdout",
          "text": [
            "-7\n"
          ]
        }
      ]
    },
    {
      "cell_type": "markdown",
      "source": [
        "Property of matrix"
      ],
      "metadata": {
        "id": "FkIV7LAly-lr"
      }
    },
    {
      "cell_type": "code",
      "source": [
        "#Identity Matrix\n",
        "c = np.eye(3,3)\n",
        "print(c)\n",
        "\n",
        "#Zero Matrix\n",
        "d = np.zeros([5,5])\n",
        "print(d)\n",
        "\n",
        "#Full Matrix\n",
        "e = np.full((3,3),7)\n",
        "print(e)\n",
        "\n",
        "#Transpose Matrix\n",
        "f= np.transpose(A)\n",
        "print(f)\n"
      ],
      "metadata": {
        "colab": {
          "base_uri": "https://localhost:8080/"
        },
        "id": "V_6HCEuNzEuK",
        "outputId": "351d3843-1bfa-4cdb-ff0f-062121fab387"
      },
      "execution_count": 57,
      "outputs": [
        {
          "output_type": "stream",
          "name": "stdout",
          "text": [
            "[[1. 0. 0.]\n",
            " [0. 1. 0.]\n",
            " [0. 0. 1.]]\n",
            "[[0. 0. 0. 0. 0.]\n",
            " [0. 0. 0. 0. 0.]\n",
            " [0. 0. 0. 0. 0.]\n",
            " [0. 0. 0. 0. 0.]\n",
            " [0. 0. 0. 0. 0.]]\n",
            "[[7 7 7]\n",
            " [7 7 7]\n",
            " [7 7 7]]\n",
            "[4 3]\n"
          ]
        }
      ]
    }
  ]
}