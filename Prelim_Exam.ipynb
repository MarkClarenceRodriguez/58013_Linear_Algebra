{
  "nbformat": 4,
  "nbformat_minor": 0,
  "metadata": {
    "colab": {
      "provenance": [],
      "authorship_tag": "ABX9TyMuIKh2YiasQVO01arMCHpa",
      "include_colab_link": true
    },
    "kernelspec": {
      "name": "python3",
      "display_name": "Python 3"
    },
    "language_info": {
      "name": "python"
    }
  },
  "cells": [
    {
      "cell_type": "markdown",
      "metadata": {
        "id": "view-in-github",
        "colab_type": "text"
      },
      "source": [
        "<a href=\"https://colab.research.google.com/github/MarkClarenceRodriguez/58013_Linear_Algebra/blob/main/Prelim_Exam.ipynb\" target=\"_parent\"><img src=\"https://colab.research.google.com/assets/colab-badge.svg\" alt=\"Open In Colab\"/></a>"
      ]
    },
    {
      "cell_type": "markdown",
      "source": [
        "Question 1.(20 points) Create a Multiplication Table/Chart of 1 to 10 using numpy/ python program."
      ],
      "metadata": {
        "id": "hSf1mgGX0wpi"
      }
    },
    {
      "cell_type": "code",
      "execution_count": 19,
      "metadata": {
        "colab": {
          "base_uri": "https://localhost:8080/"
        },
        "id": "PwK5dE8f0SwC",
        "outputId": "299a6179-c0da-42bb-b26d-69e46232491d"
      },
      "outputs": [
        {
          "output_type": "stream",
          "name": "stdout",
          "text": [
            "[ 1  2  3  4  5  6  7  8  9 10]\n",
            "[ 2  4  6  8 10 12 14 16 18 20]\n",
            "[ 3  6  9 12 15 18 21 24 27 30]\n",
            "[ 4  8 12 16 20 24 28 32 36 40]\n",
            "[ 5 10 15 20 25 30 35 40 45 50]\n",
            "[ 6 12 18 24 30 36 42 48 54 60]\n",
            "[ 7 14 21 28 35 42 49 56 63 70]\n",
            "[ 8 16 24 32 40 48 56 64 72 80]\n",
            "[ 9 18 27 36 45 54 63 72 81 90]\n",
            "[ 10  20  30  40  50  60  70  80  90 100]\n"
          ]
        }
      ],
      "source": [
        "import numpy as np\n",
        "\n",
        "\n",
        "table = np.zeros((10, 10), dtype=int)\n",
        "\n",
        "for a in range(1, 11):\n",
        "    for b in range(1, 11):\n",
        "        table[a - 1, b - 1] = a * b\n",
        "\n",
        "for row in table:\n",
        "    print(row)\n"
      ]
    },
    {
      "cell_type": "markdown",
      "source": [
        "Question 2. (10 points) In relation to Question 1, show a solution that doubles all the values of each element."
      ],
      "metadata": {
        "id": "SPwG37mJ1HIh"
      }
    },
    {
      "cell_type": "code",
      "source": [
        "import numpy as np\n",
        "\n",
        "\n",
        "table = np.zeros((10, 10), dtype=int)\n",
        "\n",
        "\n",
        "for a in range(1, 11):\n",
        "    for b in range(1, 11):\n",
        "        table[a - 1, b - 1] = a * b\n",
        "\n",
        "table *= 2\n",
        "\n",
        "\n",
        "for row in table:\n",
        "    print(row)\n"
      ],
      "metadata": {
        "colab": {
          "base_uri": "https://localhost:8080/"
        },
        "id": "dl81W7nQ1MTA",
        "outputId": "372d260f-78e2-4f6b-d71a-dae1c41b1688"
      },
      "execution_count": 20,
      "outputs": [
        {
          "output_type": "stream",
          "name": "stdout",
          "text": [
            "[ 2  4  6  8 10 12 14 16 18 20]\n",
            "[ 4  8 12 16 20 24 28 32 36 40]\n",
            "[ 6 12 18 24 30 36 42 48 54 60]\n",
            "[ 8 16 24 32 40 48 56 64 72 80]\n",
            "[ 10  20  30  40  50  60  70  80  90 100]\n",
            "[ 12  24  36  48  60  72  84  96 108 120]\n",
            "[ 14  28  42  56  70  84  98 112 126 140]\n",
            "[ 16  32  48  64  80  96 112 128 144 160]\n",
            "[ 18  36  54  72  90 108 126 144 162 180]\n",
            "[ 20  40  60  80 100 120 140 160 180 200]\n"
          ]
        }
      ]
    },
    {
      "cell_type": "markdown",
      "source": [
        "Question 3. (10 points) Create a square matrix that has a diagonal 1's."
      ],
      "metadata": {
        "id": "FMZ2EjGr2OWP"
      }
    },
    {
      "cell_type": "code",
      "source": [
        "import numpy as np\n",
        "\n",
        "matrix_size = 4\n",
        "\n",
        "identity_matrix = np.eye(matrix_size)\n",
        "\n",
        "print(identity_matrix)\n"
      ],
      "metadata": {
        "colab": {
          "base_uri": "https://localhost:8080/"
        },
        "id": "hqkXEsEi2S5w",
        "outputId": "c785edc6-9fba-4502-9281-a7534a00f534"
      },
      "execution_count": 30,
      "outputs": [
        {
          "output_type": "stream",
          "name": "stdout",
          "text": [
            "[[1. 0. 0. 0.]\n",
            " [0. 1. 0. 0.]\n",
            " [0. 0. 1. 0.]\n",
            " [0. 0. 0. 1.]]\n"
          ]
        }
      ]
    },
    {
      "cell_type": "markdown",
      "source": [
        "Question 4. (30 points) Create a matrix whose elements are:\n",
        "matrix = np.array([[1, 2, 3, 4],\n",
        "                   [5, 6, 7, 8],\n",
        "                   [9, 10, 11, 12]])\n",
        "Type a python program that can view the size, shape, and dimension of the matrix above."
      ],
      "metadata": {
        "id": "uQ-fVj9d2TFC"
      }
    },
    {
      "cell_type": "code",
      "source": [
        "import numpy as np\n",
        "\n",
        "\n",
        "matrix = np.array([[1, 2, 3, 4],\n",
        "                   [5, 6, 7, 8],\n",
        "                   [9, 10, 11, 12]])\n",
        "\n",
        "print(\"Matrix:\")\n",
        "print(matrix)\n",
        "\n",
        "size = matrix.size\n",
        "print(\"Size:\", size)\n",
        "\n",
        "shape = matrix.shape\n",
        "print(\"Shape:\", shape)\n",
        "\n",
        "dimensions = matrix.ndim\n",
        "print(\"Dimensions:\", dimensions)\n"
      ],
      "metadata": {
        "colab": {
          "base_uri": "https://localhost:8080/"
        },
        "id": "8w6GAvIU2WR3",
        "outputId": "84e08494-4dca-4f56-d4bf-796e59ff221d"
      },
      "execution_count": 26,
      "outputs": [
        {
          "output_type": "stream",
          "name": "stdout",
          "text": [
            "Matrix:\n",
            "[[ 1  2  3  4]\n",
            " [ 5  6  7  8]\n",
            " [ 9 10 11 12]]\n",
            "Size: 12\n",
            "Shape: (3, 4)\n",
            "Dimensions: 2\n"
          ]
        }
      ]
    },
    {
      "cell_type": "markdown",
      "source": [
        "Question 5. (30 points) Create a result array by adding the following two NumPy arrays. Next, modify the result array by calculating the square of each element.\n",
        "\n",
        "arrayOne = numpy.array([[5, 6, 9], [21, 18, 27]])\n",
        "arrayTwo = numpy.array([[15, 33, 24], [4, 7, 1]])"
      ],
      "metadata": {
        "id": "0lg-MkYk2Ww3"
      }
    },
    {
      "cell_type": "code",
      "source": [
        "import numpy as np\n",
        "\n",
        "arrayOne = np.array([[5, 6, 9], [21, 18, 27]])\n",
        "arrayTwo = np.array([[15, 33, 24], [4, 7, 1]])\n",
        "\n",
        "result_array = arrayOne + arrayTwo\n",
        "\n",
        "result_array_squared = np.square(result_array)\n",
        "\n",
        "print(\"Result Array (After Addition):\")\n",
        "print(result_array)\n",
        "\n",
        "print(\"\\nResult Array (After Squaring Each Element):\")\n",
        "print(result_array_squared)\n"
      ],
      "metadata": {
        "colab": {
          "base_uri": "https://localhost:8080/"
        },
        "id": "0oXMuC5j2a7I",
        "outputId": "2bbfbbda-4fb5-433d-bb7e-1e8af63907f2"
      },
      "execution_count": 23,
      "outputs": [
        {
          "output_type": "stream",
          "name": "stdout",
          "text": [
            "Result Array (After Addition):\n",
            "[[20 39 33]\n",
            " [25 25 28]]\n",
            "\n",
            "Result Array (After Squaring Each Element):\n",
            "[[ 400 1521 1089]\n",
            " [ 625  625  784]]\n"
          ]
        }
      ]
    }
  ]
}