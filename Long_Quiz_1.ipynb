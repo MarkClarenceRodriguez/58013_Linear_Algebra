{
  "nbformat": 4,
  "nbformat_minor": 0,
  "metadata": {
    "colab": {
      "provenance": [],
      "authorship_tag": "ABX9TyMjpzNWbddfAOfr82vUc3VT",
      "include_colab_link": true
    },
    "kernelspec": {
      "name": "python3",
      "display_name": "Python 3"
    },
    "language_info": {
      "name": "python"
    }
  },
  "cells": [
    {
      "cell_type": "markdown",
      "metadata": {
        "id": "view-in-github",
        "colab_type": "text"
      },
      "source": [
        "<a href=\"https://colab.research.google.com/github/MarkClarenceRodriguez/58013_Linear_Algebra/blob/main/Long_Quiz_1.ipynb\" target=\"_parent\"><img src=\"https://colab.research.google.com/assets/colab-badge.svg\" alt=\"Open In Colab\"/></a>"
      ]
    },
    {
      "cell_type": "markdown",
      "source": [
        "  Problem 1.  Consider the four matrices, (20 points each)"
      ],
      "metadata": {
        "id": "H4sMargfh0GL"
      }
    },
    {
      "cell_type": "code",
      "execution_count": 30,
      "metadata": {
        "colab": {
          "base_uri": "https://localhost:8080/"
        },
        "id": "hgtTZWdIhZx7",
        "outputId": "d20ddb28-68be-49b7-d41a-1598cb71e996"
      },
      "outputs": [
        {
          "output_type": "stream",
          "name": "stdout",
          "text": [
            "a. AB\n",
            "\n",
            "Matrix A:\n",
            "[[1 2 3]\n",
            " [4 5 6]]\n",
            "\n",
            "Matrix B:\n",
            "[[1 2]\n",
            " [3 4]\n",
            " [5 6]]\n",
            "\n",
            "Matrix AB (Product of A and B):\n",
            "[[22 28]\n",
            " [49 64]]\n",
            "\n",
            "b. D + D\n",
            "\n",
            "Matrix D:\n",
            "[[1 2]\n",
            " [3 4]]\n",
            "\n",
            "Matrix D + D:\n",
            "[[2 4]\n",
            " [6 8]]\n",
            "\n",
            " c. 2C\n",
            "\n",
            "Matrix C:\n",
            "[[1 2 3]\n",
            " [4 5 6]\n",
            " [7 8 9]]\n",
            "\n",
            "2 * C:\n",
            "[[ 2  4  6]\n",
            " [ 8 10 12]\n",
            " [14 16 18]]\n"
          ]
        }
      ],
      "source": [
        "#a. AB\n",
        "import numpy as np\n",
        "\n",
        "A = np.array([[1, 2, 3],\n",
        "              [4, 5, 6]])\n",
        "\n",
        "B = np.array([[1, 2],\n",
        "              [3, 4],\n",
        "              [5, 6]])\n",
        "\n",
        "AB = np.dot(A, B)\n",
        "\n",
        "print(\"a. AB\\n\")\n",
        "print(\"Matrix A:\")\n",
        "print(A)\n",
        "print(\"\\nMatrix B:\")\n",
        "print(B)\n",
        "print(\"\\nMatrix AB (Product of A and B):\")\n",
        "print(AB)\n",
        "\n",
        "\n",
        "#b. D + D\n",
        "import numpy as np\n",
        "\n",
        "\n",
        "D = np.array([[1, 2],\n",
        "              [3, 4]])\n",
        "\n",
        "result = D + D\n",
        "\n",
        "print(\"\\nb. D + D\")\n",
        "print(\"\\nMatrix D:\")\n",
        "print(D)\n",
        "print(\"\\nMatrix D + D:\")\n",
        "print(result)\n",
        "\n",
        "#c. 2C\n",
        "import numpy as np\n",
        "\n",
        "C = np.array([[1, 2, 3],\n",
        "              [4, 5, 6],\n",
        "              [7, 8, 9]])\n",
        "\n",
        "result = 2 * C\n",
        "\n",
        "print(\"\\n c. 2C\\n\")\n",
        "print(\"Matrix C:\")\n",
        "print(C)\n",
        "print(\"\\n2 * C:\")\n",
        "print(result)\n",
        "\n",
        "\n",
        "\n"
      ]
    },
    {
      "cell_type": "markdown",
      "source": [
        "Problem 2. Find the cross-product of matrices, A = [2,7,4] and\n",
        "B = [3,9,8]. Show your solutions using Python program .  (40 points)\n",
        "\n"
      ],
      "metadata": {
        "id": "yh8l1PLEh4MJ"
      }
    },
    {
      "cell_type": "code",
      "source": [
        "import numpy as np\n",
        "\n",
        "A = np.array([2, 7, 4])\n",
        "B = np.array([3, 9, 8])\n",
        "\n",
        "cross_product = np.cross(A, B)\n",
        "\n",
        "print(\"Matrix A:\", A)\n",
        "print(\"Matrix B:\", B)\n",
        "print(\"Cross Product:\", cross_product)\n"
      ],
      "metadata": {
        "colab": {
          "base_uri": "https://localhost:8080/"
        },
        "id": "7eL4TPUdh6js",
        "outputId": "a6bb33a3-7084-4ea2-9b21-64b022a8b882"
      },
      "execution_count": 29,
      "outputs": [
        {
          "output_type": "stream",
          "name": "stdout",
          "text": [
            "Matrix A: [2 7 4]\n",
            "Matrix B: [3 9 8]\n",
            "Cross Product: [20 -4 -3]\n"
          ]
        }
      ]
    }
  ]
}