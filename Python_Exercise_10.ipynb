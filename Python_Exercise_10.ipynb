{
  "nbformat": 4,
  "nbformat_minor": 0,
  "metadata": {
    "colab": {
      "provenance": [],
      "authorship_tag": "ABX9TyO5mG70JXMw47kGG928mVlW",
      "include_colab_link": true
    },
    "kernelspec": {
      "name": "python3",
      "display_name": "Python 3"
    },
    "language_info": {
      "name": "python"
    }
  },
  "cells": [
    {
      "cell_type": "markdown",
      "metadata": {
        "id": "view-in-github",
        "colab_type": "text"
      },
      "source": [
        "<a href=\"https://colab.research.google.com/github/MarkClarenceRodriguez/58013_Linear_Algebra/blob/main/Python_Exercise_10.ipynb\" target=\"_parent\"><img src=\"https://colab.research.google.com/assets/colab-badge.svg\" alt=\"Open In Colab\"/></a>"
      ]
    },
    {
      "cell_type": "markdown",
      "source": [
        "SYSTEM OF LINEAR EQUATIONS\n",
        "\n"
      ],
      "metadata": {
        "id": "8Ls9yO2YB-kW"
      }
    },
    {
      "cell_type": "code",
      "execution_count": 3,
      "metadata": {
        "colab": {
          "base_uri": "https://localhost:8080/"
        },
        "id": "pn0c0W1M-ZBZ",
        "outputId": "eaaf7530-628e-42d1-9def-391603613c1c"
      },
      "outputs": [
        {
          "output_type": "stream",
          "name": "stdout",
          "text": [
            "[[ 1.  1.  1.]\n",
            " [ 3. -2. -1.]\n",
            " [-1.  4.  2.]]\n",
            "(3, 3)\n",
            "[[ 1.]\n",
            " [ 4.]\n",
            " [-3.]]\n",
            "(3, 1)\n"
          ]
        }
      ],
      "source": [
        "import numpy as np\n",
        "\n",
        "X = np.array([\n",
        "    [1,1,1],\n",
        "    [3,-2,-1],\n",
        "    [-1,4,2]\n",
        "], dtype=float)\n",
        "Y = np.array([\n",
        "    [1],\n",
        "    [4],\n",
        "    [-3]\n",
        "],dtype=float)\n",
        "print(X)\n",
        "print(X.shape)\n",
        "print(Y)\n",
        "print(Y.shape)\n"
      ]
    },
    {
      "cell_type": "markdown",
      "source": [
        "Coding Activity 10"
      ],
      "metadata": {
        "id": "h4w2ilNXBHWu"
      }
    },
    {
      "cell_type": "code",
      "source": [
        "quantities = np.array([[30,10,120],[40,20,200],[50,40,360]])\n",
        "total_cost = np.array([12500,18000,25700])\n",
        "\n",
        "\n",
        "A = quantities\n",
        "\n",
        "B = total_cost\n",
        "\n",
        "prices = np.linalg.solve(A,B)\n",
        "price_per_sack_of_flour, price_per_pack_of_yeast, price_per_egg = prices\n",
        "\n",
        "print(f\"Price per sack of flour: {price_per_sack_of_flour:.2f} pesos\")\n",
        "print(f\"Price per pack of yeast: {price_per_pack_of_yeast:.2f} pesos\")\n",
        "print(f\"Price per egg: {price_per_egg:.2f} pesos\")"
      ],
      "metadata": {
        "colab": {
          "base_uri": "https://localhost:8080/"
        },
        "id": "8EhRZ0mI_8yX",
        "outputId": "87dc8579-fb81-4e27-9848-796baaf97ce9"
      },
      "execution_count": 5,
      "outputs": [
        {
          "output_type": "stream",
          "name": "stdout",
          "text": [
            "Price per sack of flour: 330.00 pesos\n",
            "Price per pack of yeast: 140.00 pesos\n",
            "Price per egg: 10.00 pesos\n"
          ]
        }
      ]
    }
  ]
}